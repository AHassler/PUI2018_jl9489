{
 "cells": [
  {
   "cell_type": "code",
   "execution_count": 1,
   "metadata": {},
   "outputs": [],
   "source": [
    "import pandas as pd\n",
    "import numpy as np\n",
    "import os\n",
    "\n",
    "from __future__ import print_function"
   ]
  },
  {
   "cell_type": "code",
   "execution_count": 2,
   "metadata": {},
   "outputs": [
    {
     "name": "stdout",
     "output_type": "stream",
     "text": [
      "  % Total    % Received % Xferd  Average Speed   Time    Time     Time  Current\n",
      "                                 Dload  Upload   Total   Spent    Left  Speed\n",
      "100 28339    0 28339    0     0   117k      0 --:--:-- --:--:-- --:--:--  117k\n"
     ]
    }
   ],
   "source": [
    "!curl https://data.cityofnewyork.us/api/views/f9bf-2cp4/rows.csv?accessType=DOWNLOAD > satscores.csv"
   ]
  },
  {
   "cell_type": "code",
   "execution_count": 3,
   "metadata": {},
   "outputs": [
    {
     "name": "stdout",
     "output_type": "stream",
     "text": [
      "PUIdata /nfshome/jl9489/PUIdata\n"
     ]
    }
   ],
   "source": [
    "# Created envrionmental variable to house .csv file\n",
    "\n",
    "os.environ[\"PUIDATA\"] = \"%s/PUIdata\"%os.getenv(\"HOME\")\n",
    "\n",
    "print(\"PUIdata\", os.getenv(\"PUIDATA\"))"
   ]
  },
  {
   "cell_type": "code",
   "execution_count": 7,
   "metadata": {},
   "outputs": [],
   "source": [
    "# Moved .csv file to variable\n",
    "\n",
    "!mv satscores.csv $PUIDATA"
   ]
  },
  {
   "cell_type": "code",
   "execution_count": 8,
   "metadata": {},
   "outputs": [
    {
     "name": "stdout",
     "output_type": "stream",
     "text": [
      "/nfshome/jl9489/PUIdata\r\n"
     ]
    }
   ],
   "source": [
    "# Tried to show list of files, but the PUIdata directory itself is just a .csv file.  This was a mistake I was\n",
    "# unable to fix in time.\n",
    "\n",
    "!ls $PUIDATA"
   ]
  },
  {
   "cell_type": "code",
   "execution_count": 13,
   "metadata": {},
   "outputs": [],
   "source": [
    "# Assigned .csv file to a variable in Python, so it could be manipulated as a dataframe\n",
    "\n",
    "sat_scores = pd.read_csv(os.getenv(\"PUIDATA\"))\n",
    "\n",
    "sat_scores = sat_scores[sat_scores['SAT Writing Avg. Score'] != 's']"
   ]
  },
  {
   "cell_type": "code",
   "execution_count": 14,
   "metadata": {},
   "outputs": [
    {
     "data": {
      "text/html": [
       "<div>\n",
       "<table border=\"1\" class=\"dataframe\">\n",
       "  <thead>\n",
       "    <tr style=\"text-align: right;\">\n",
       "      <th></th>\n",
       "      <th>DBN</th>\n",
       "      <th>SCHOOL NAME</th>\n",
       "      <th>Num of SAT Test Takers</th>\n",
       "      <th>SAT Critical Reading Avg. Score</th>\n",
       "      <th>SAT Math Avg. Score</th>\n",
       "      <th>SAT Writing Avg. Score</th>\n",
       "    </tr>\n",
       "  </thead>\n",
       "  <tbody>\n",
       "    <tr>\n",
       "      <th>0</th>\n",
       "      <td>01M292</td>\n",
       "      <td>HENRY STREET SCHOOL FOR INTERNATIONAL STUDIES</td>\n",
       "      <td>29</td>\n",
       "      <td>355</td>\n",
       "      <td>404</td>\n",
       "      <td>363</td>\n",
       "    </tr>\n",
       "    <tr>\n",
       "      <th>1</th>\n",
       "      <td>01M448</td>\n",
       "      <td>UNIVERSITY NEIGHBORHOOD HIGH SCHOOL</td>\n",
       "      <td>91</td>\n",
       "      <td>383</td>\n",
       "      <td>423</td>\n",
       "      <td>366</td>\n",
       "    </tr>\n",
       "    <tr>\n",
       "      <th>2</th>\n",
       "      <td>01M450</td>\n",
       "      <td>EAST SIDE COMMUNITY SCHOOL</td>\n",
       "      <td>70</td>\n",
       "      <td>377</td>\n",
       "      <td>402</td>\n",
       "      <td>370</td>\n",
       "    </tr>\n",
       "    <tr>\n",
       "      <th>3</th>\n",
       "      <td>01M458</td>\n",
       "      <td>FORSYTH SATELLITE ACADEMY</td>\n",
       "      <td>7</td>\n",
       "      <td>414</td>\n",
       "      <td>401</td>\n",
       "      <td>359</td>\n",
       "    </tr>\n",
       "    <tr>\n",
       "      <th>4</th>\n",
       "      <td>01M509</td>\n",
       "      <td>MARTA VALLE HIGH SCHOOL</td>\n",
       "      <td>44</td>\n",
       "      <td>390</td>\n",
       "      <td>433</td>\n",
       "      <td>384</td>\n",
       "    </tr>\n",
       "    <tr>\n",
       "      <th>5</th>\n",
       "      <td>01M515</td>\n",
       "      <td>LOWER EAST SIDE PREPARATORY HIGH SCHOOL</td>\n",
       "      <td>112</td>\n",
       "      <td>332</td>\n",
       "      <td>557</td>\n",
       "      <td>316</td>\n",
       "    </tr>\n",
       "    <tr>\n",
       "      <th>6</th>\n",
       "      <td>01M539</td>\n",
       "      <td>NEW EXPLORATIONS INTO SCIENCE, TECHNOLOGY AND ...</td>\n",
       "      <td>159</td>\n",
       "      <td>522</td>\n",
       "      <td>574</td>\n",
       "      <td>525</td>\n",
       "    </tr>\n",
       "  </tbody>\n",
       "</table>\n",
       "</div>"
      ],
      "text/plain": [
       "      DBN                                        SCHOOL NAME  \\\n",
       "0  01M292      HENRY STREET SCHOOL FOR INTERNATIONAL STUDIES   \n",
       "1  01M448                UNIVERSITY NEIGHBORHOOD HIGH SCHOOL   \n",
       "2  01M450                         EAST SIDE COMMUNITY SCHOOL   \n",
       "3  01M458                          FORSYTH SATELLITE ACADEMY   \n",
       "4  01M509                            MARTA VALLE HIGH SCHOOL   \n",
       "5  01M515            LOWER EAST SIDE PREPARATORY HIGH SCHOOL   \n",
       "6  01M539  NEW EXPLORATIONS INTO SCIENCE, TECHNOLOGY AND ...   \n",
       "\n",
       "  Num of SAT Test Takers SAT Critical Reading Avg. Score SAT Math Avg. Score  \\\n",
       "0                     29                             355                 404   \n",
       "1                     91                             383                 423   \n",
       "2                     70                             377                 402   \n",
       "3                      7                             414                 401   \n",
       "4                     44                             390                 433   \n",
       "5                    112                             332                 557   \n",
       "6                    159                             522                 574   \n",
       "\n",
       "  SAT Writing Avg. Score  \n",
       "0                    363  \n",
       "1                    366  \n",
       "2                    370  \n",
       "3                    359  \n",
       "4                    384  \n",
       "5                    316  \n",
       "6                    525  "
      ]
     },
     "execution_count": 14,
     "metadata": {},
     "output_type": "execute_result"
    }
   ],
   "source": [
    "# Displayed the first 7 rows\n",
    "\n",
    "sat_scores.head(7)"
   ]
  },
  {
   "cell_type": "code",
   "execution_count": 16,
   "metadata": {},
   "outputs": [
    {
     "name": "stdout",
     "output_type": "stream",
     "text": [
      "    SAT Writing Avg. Score SAT Math Avg. Score\n",
      "0                      363                 404\n",
      "1                      366                 423\n",
      "2                      370                 402\n",
      "3                      359                 401\n",
      "4                      384                 433\n",
      "5                      316                 557\n",
      "6                      525                 574\n",
      "7                      411                 418\n",
      "8                      628                 604\n",
      "9                      387                 400\n",
      "10                     392                 393\n",
      "11                     378                 384\n",
      "12                     362                 375\n",
      "13                     432                 438\n",
      "14                     416                 449\n",
      "15                     340                 358\n",
      "16                     385                 388\n",
      "17                     405                 392\n",
      "18                     390                 390\n",
      "19                     384                 370\n",
      "20                     394                 391\n",
      "21                     479                 483\n",
      "24                     357                 512\n",
      "26                     461                 493\n",
      "27                     467                 465\n",
      "28                     523                 490\n",
      "29                     518                 563\n",
      "30                     550                 590\n",
      "31                     515                 533\n",
      "32                     459                 492\n",
      "..                     ...                 ...\n",
      "441                    405                 440\n",
      "442                    412                 449\n",
      "443                    395                 420\n",
      "444                    494                 496\n",
      "445                    398                 434\n",
      "446                    329                 475\n",
      "447                    491                 492\n",
      "448                    544                 568\n",
      "449                    450                 451\n",
      "450                    385                 412\n",
      "451                    466                 488\n",
      "452                    416                 437\n",
      "453                    417                 438\n",
      "454                    429                 435\n",
      "455                    470                 486\n",
      "456                    459                 474\n",
      "457                    414                 455\n",
      "458                    397                 422\n",
      "459                    636                 682\n",
      "460                    370                 375\n",
      "461                    352                 366\n",
      "462                    361                 409\n",
      "463                    334                 353\n",
      "464                    354                 364\n",
      "465                    422                 465\n",
      "466                    350                 358\n",
      "467                    358                 317\n",
      "471                    433                 444\n",
      "476                    426                 400\n",
      "477                    360                 370\n",
      "\n",
      "[421 rows x 2 columns]\n"
     ]
    }
   ],
   "source": [
    "# Created subset of initial dataframe, with only 2 columns\n",
    "\n",
    "sat_scores_2c = sat_scores[['SAT Writing Avg. Score','SAT Math Avg. Score']]\n",
    "\n",
    "print(sat_scores_2c)"
   ]
  },
  {
   "cell_type": "code",
   "execution_count": 17,
   "metadata": {},
   "outputs": [
    {
     "name": "stdout",
     "output_type": "stream",
     "text": [
      "Populating the interactive namespace from numpy and matplotlib\n",
      "Figure 1: The chart below shows a scatter plot of SAT Math and Writing scores among NYC schools in 2012.  There seems to be a direct correlation between the two scores.  Students who scored higher on the Math section generally scored higher on the Writing section as well.\n"
     ]
    },
    {
     "data": {
      "image/png": "[encoded data removed]",
      "text/plain": [
       "<matplotlib.figure.Figure at 0x7f3d9a2cf2b0>"
      ]
     },
     "metadata": {},
     "output_type": "display_data"
    }
   ],
   "source": [
    "# First, had to convert data points to integers, in order to plot\n",
    "sat_scores_2c = sat_scores_2c.astype('int')\n",
    "\n",
    "\n",
    "#Next, created plot\n",
    "\n",
    "# First Graph: Scatter Plot\n",
    "\n",
    "%pylab inline\n",
    "\n",
    "\n",
    "\n",
    "sat_scores_2c.plot(x='SAT Writing Avg. Score', y='SAT Math Avg. Score', kind='scatter')\n",
    "\n",
    "print('Figure 1: The chart below shows a scatter plot of SAT Math and Writing scores among NYC schools in 2012.  There seems to be a direct correlation between the two scores.  Students who scored higher on the Math section generally scored higher on the Writing section as well.')\n"
   ]
  },
  {
   "cell_type": "code",
   "execution_count": null,
   "metadata": {},
   "outputs": [],
   "source": []
  }
 ],
 "metadata": {
  "kernelspec": {
   "display_name": "PUI2016_Python3",
   "language": "python",
   "name": "pui2016_python3"
  },
  "language_info": {
   "codemirror_mode": {
    "name": "ipython",
    "version": 3
   },
   "file_extension": ".py",
   "mimetype": "text/x-python",
   "name": "python",
   "nbconvert_exporter": "python",
   "pygments_lexer": "ipython3",
   "version": "3.5.4"
  }
 },
 "nbformat": 4,
 "nbformat_minor": 2
}
