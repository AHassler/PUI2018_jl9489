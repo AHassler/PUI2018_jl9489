{
 "cells": [
  {
   "cell_type": "code",
   "execution_count": 1,
   "metadata": {},
   "outputs": [
    {
     "name": "stdout",
     "output_type": "stream",
     "text": [
      "    Bus Route Times\n",
      "0         31.622239\n",
      "1         32.821376\n",
      "2         30.229101\n",
      "3         31.413766\n",
      "4         39.010550\n",
      "5         34.822079\n",
      "6         39.871884\n",
      "7         39.579946\n",
      "8         31.026587\n",
      "9         27.662461\n",
      "10        18.875288\n",
      "11        46.231373\n",
      "12        30.015226\n",
      "13        47.600410\n",
      "14        16.527267\n",
      "15        42.446233\n",
      "16        33.625274\n",
      "17        42.284626\n",
      "18        46.205207\n",
      "19        30.875174\n",
      "20        32.948003\n",
      "21        26.176915\n",
      "22        31.256996\n",
      "23        35.336446\n",
      "24        35.640725\n",
      "25        40.322972\n",
      "26        38.043486\n",
      "27        29.457979\n",
      "28        23.916364\n",
      "29        34.564035\n",
      "..              ...\n",
      "70        31.481028\n",
      "71        37.149151\n",
      "72        38.991504\n",
      "73        20.530594\n",
      "74        27.804477\n",
      "75        38.699333\n",
      "76        30.022314\n",
      "77        38.648842\n",
      "78        26.406689\n",
      "79        32.102250\n",
      "80        28.315328\n",
      "81        43.261959\n",
      "82        40.360941\n",
      "83        37.302526\n",
      "84        31.451102\n",
      "85        38.795995\n",
      "86        36.925534\n",
      "87        32.371679\n",
      "88        23.258356\n",
      "89        26.426133\n",
      "90        48.749877\n",
      "91        31.425124\n",
      "92        46.806793\n",
      "93        30.597486\n",
      "94        20.792632\n",
      "95        26.197852\n",
      "96        42.727410\n",
      "97        33.731470\n",
      "98        37.238591\n",
      "99        36.339841\n",
      "\n",
      "[100 rows x 1 columns]\n"
     ]
    }
   ],
   "source": [
    "import csv\n",
    "import pandas\n",
    "import math\n",
    "\n",
    "\n",
    "\n",
    "bus_times = pandas.read_csv('times.csv')\n",
    "print(bus_times)"
   ]
  },
  {
   "cell_type": "code",
   "execution_count": 2,
   "metadata": {},
   "outputs": [
    {
     "name": "stdout",
     "output_type": "stream",
     "text": [
      "Population mean: 36.00 \n",
      "Sample mean: 34.47\n"
     ]
    }
   ],
   "source": [
    "# The following code looks to determine whether a new bus line has improved route times\n",
    "\n",
    "# Null Hypothesis: The mean bus time for the alternative bus route will be the same of higher than the mean for the \n",
    "#               population (36 minutes).\n",
    "# \n",
    "#               H0: µ1 >= µ2\n",
    "#\n",
    "# Alternative Hypothesis: The mean bus time for the alternative bus route will be lower than the mean for the\n",
    "#                         population (36 minutes).\n",
    "#\n",
    "#               Ha: µ1 < µ2\n",
    "#\n",
    "# Significance Level α = 0.05\n",
    "\n",
    "\n",
    "bus_pop_mean = 36\n",
    "bus_pop_sd = 6\n",
    "bus_samp_mean = bus_times.mean()\n",
    "\n",
    "print(\"Population mean: %.2f \\nSample mean: %.2f\" %(bus_pop_mean, bus_samp_mean))"
   ]
  },
  {
   "cell_type": "code",
   "execution_count": 3,
   "metadata": {},
   "outputs": [
    {
     "name": "stdout",
     "output_type": "stream",
     "text": [
      "Bus Route Times    2.543583\n",
      "dtype: float64\n"
     ]
    }
   ],
   "source": [
    "samp_count = 99\n",
    "\n",
    "# Calculation of Z-value: (mean(pop) - mean(sample))/(standard deviation/sqrt(N))\n",
    "# where N = sample total\n",
    "\n",
    "z_value = (bus_pop_mean - bus_samp_mean)/(bus_pop_sd/math.sqrt(samp_count))\n",
    "print(z_value)"
   ]
  },
  {
   "cell_type": "code",
   "execution_count": null,
   "metadata": {},
   "outputs": [],
   "source": [
    "# Z-Value of about 2.54 on the z-table corresponds to a value of .9945, or 99.45%.\n",
    "# \n",
    "#\n",
    "# Z-value = 2.54 > 2 sigma, which is the threshhold for α = 0.05.\n",
    "# As such, we can reject the null hypothesis.  \n",
    "# The alternative route has a mean value less than the popluation mean, and the difference is statistically significant."
   ]
  }
 ],
 "metadata": {
  "kernelspec": {
   "display_name": "PUI2016_Python3",
   "language": "python",
   "name": "pui2016_python3"
  },
  "language_info": {
   "codemirror_mode": {
    "name": "ipython",
    "version": 3
   },
   "file_extension": ".py",
   "mimetype": "text/x-python",
   "name": "python",
   "nbconvert_exporter": "python",
   "pygments_lexer": "ipython3",
   "version": "3.5.4"
  }
 },
 "nbformat": 4,
 "nbformat_minor": 2
}
