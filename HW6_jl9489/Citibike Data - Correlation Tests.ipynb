{
 "cells": [
  {
   "cell_type": "code",
   "execution_count": 1,
   "metadata": {},
   "outputs": [
    {
     "name": "stdout",
     "output_type": "stream",
     "text": [
      "Populating the interactive namespace from numpy and matplotlib\n"
     ]
    }
   ],
   "source": [
    "import pylab as pl\n",
    "import pandas as pd\n",
    "import numpy as np\n",
    "import os\n",
    "import sys\n",
    "\n",
    "import scipy.stats\n",
    "\n",
    "% pylab inline"
   ]
  },
  {
   "cell_type": "code",
   "execution_count": 2,
   "metadata": {},
   "outputs": [
    {
     "name": "stdout",
     "output_type": "stream",
     "text": [
      "  % Total    % Received % Xferd  Average Speed   Time    Time     Time  Current\n",
      "                                 Dload  Upload   Total   Spent    Left  Speed\n",
      "100 57.7M  100 57.7M    0     0  41.3M      0  0:00:01  0:00:01 --:--:-- 41.3M\n"
     ]
    }
   ],
   "source": [
    "# Downloading data\n",
    "\n",
    "!curl https://s3.amazonaws.com/tripdata/201707-citibike-tripdata.csv.zip > citibike_6.zip"
   ]
  },
  {
   "cell_type": "code",
   "execution_count": 3,
   "metadata": {},
   "outputs": [],
   "source": [
    "!mv citibike_6.zip $PUIDATA"
   ]
  },
  {
   "cell_type": "code",
   "execution_count": 4,
   "metadata": {},
   "outputs": [
    {
     "name": "stdout",
     "output_type": "stream",
     "text": [
      "Archive:  /nfshome/jl9489/PUIdata/citibike_6.zip\n",
      "replace /nfshome/jl9489/PUIdata/201707-citibike-tripdata.csv? [y]es, [n]o, [A]ll, [N]one, [r]ename: ^C\n"
     ]
    }
   ],
   "source": [
    "# !unzip $PUIDATA/citibike_6.zip -d $PUIDATA"
   ]
  },
  {
   "cell_type": "code",
   "execution_count": 5,
   "metadata": {},
   "outputs": [
    {
     "data": {
      "text/html": [
       "<div>\n",
       "<table border=\"1\" class=\"dataframe\">\n",
       "  <thead>\n",
       "    <tr style=\"text-align: right;\">\n",
       "      <th></th>\n",
       "      <th>tripduration</th>\n",
       "      <th>starttime</th>\n",
       "      <th>stoptime</th>\n",
       "      <th>start station id</th>\n",
       "      <th>start station name</th>\n",
       "      <th>start station latitude</th>\n",
       "      <th>start station longitude</th>\n",
       "      <th>end station id</th>\n",
       "      <th>end station name</th>\n",
       "      <th>end station latitude</th>\n",
       "      <th>end station longitude</th>\n",
       "      <th>bikeid</th>\n",
       "      <th>usertype</th>\n",
       "      <th>birth year</th>\n",
       "      <th>gender</th>\n",
       "    </tr>\n",
       "  </thead>\n",
       "  <tbody>\n",
       "    <tr>\n",
       "      <th>0</th>\n",
       "      <td>364</td>\n",
       "      <td>2017-07-01 00:00:00</td>\n",
       "      <td>2017-07-01 00:06:05</td>\n",
       "      <td>539</td>\n",
       "      <td>Metropolitan Ave &amp; Bedford Ave</td>\n",
       "      <td>40.715348</td>\n",
       "      <td>-73.960241</td>\n",
       "      <td>3107</td>\n",
       "      <td>Bedford Ave &amp; Nassau Ave</td>\n",
       "      <td>40.723117</td>\n",
       "      <td>-73.952123</td>\n",
       "      <td>14744</td>\n",
       "      <td>Subscriber</td>\n",
       "      <td>1986.0</td>\n",
       "      <td>1</td>\n",
       "    </tr>\n",
       "    <tr>\n",
       "      <th>1</th>\n",
       "      <td>2142</td>\n",
       "      <td>2017-07-01 00:00:03</td>\n",
       "      <td>2017-07-01 00:35:46</td>\n",
       "      <td>293</td>\n",
       "      <td>Lafayette St &amp; E 8 St</td>\n",
       "      <td>40.730207</td>\n",
       "      <td>-73.991026</td>\n",
       "      <td>3425</td>\n",
       "      <td>2 Ave  &amp; E 104 St</td>\n",
       "      <td>40.789210</td>\n",
       "      <td>-73.943708</td>\n",
       "      <td>19587</td>\n",
       "      <td>Subscriber</td>\n",
       "      <td>1981.0</td>\n",
       "      <td>1</td>\n",
       "    </tr>\n",
       "    <tr>\n",
       "      <th>2</th>\n",
       "      <td>328</td>\n",
       "      <td>2017-07-01 00:00:08</td>\n",
       "      <td>2017-07-01 00:05:37</td>\n",
       "      <td>3242</td>\n",
       "      <td>Schermerhorn St &amp; Court St</td>\n",
       "      <td>40.691029</td>\n",
       "      <td>-73.991834</td>\n",
       "      <td>3397</td>\n",
       "      <td>Court St &amp; Nelson St</td>\n",
       "      <td>40.676395</td>\n",
       "      <td>-73.998699</td>\n",
       "      <td>27937</td>\n",
       "      <td>Subscriber</td>\n",
       "      <td>1984.0</td>\n",
       "      <td>2</td>\n",
       "    </tr>\n",
       "    <tr>\n",
       "      <th>3</th>\n",
       "      <td>2530</td>\n",
       "      <td>2017-07-01 00:00:11</td>\n",
       "      <td>2017-07-01 00:42:22</td>\n",
       "      <td>2002</td>\n",
       "      <td>Wythe Ave &amp; Metropolitan Ave</td>\n",
       "      <td>40.716887</td>\n",
       "      <td>-73.963198</td>\n",
       "      <td>398</td>\n",
       "      <td>Atlantic Ave &amp; Furman St</td>\n",
       "      <td>40.691652</td>\n",
       "      <td>-73.999979</td>\n",
       "      <td>26066</td>\n",
       "      <td>Subscriber</td>\n",
       "      <td>1985.0</td>\n",
       "      <td>1</td>\n",
       "    </tr>\n",
       "    <tr>\n",
       "      <th>4</th>\n",
       "      <td>2534</td>\n",
       "      <td>2017-07-01 00:00:15</td>\n",
       "      <td>2017-07-01 00:42:29</td>\n",
       "      <td>2002</td>\n",
       "      <td>Wythe Ave &amp; Metropolitan Ave</td>\n",
       "      <td>40.716887</td>\n",
       "      <td>-73.963198</td>\n",
       "      <td>398</td>\n",
       "      <td>Atlantic Ave &amp; Furman St</td>\n",
       "      <td>40.691652</td>\n",
       "      <td>-73.999979</td>\n",
       "      <td>29408</td>\n",
       "      <td>Subscriber</td>\n",
       "      <td>1982.0</td>\n",
       "      <td>2</td>\n",
       "    </tr>\n",
       "  </tbody>\n",
       "</table>\n",
       "</div>"
      ],
      "text/plain": [
       "   tripduration            starttime             stoptime  start station id  \\\n",
       "0           364  2017-07-01 00:00:00  2017-07-01 00:06:05               539   \n",
       "1          2142  2017-07-01 00:00:03  2017-07-01 00:35:46               293   \n",
       "2           328  2017-07-01 00:00:08  2017-07-01 00:05:37              3242   \n",
       "3          2530  2017-07-01 00:00:11  2017-07-01 00:42:22              2002   \n",
       "4          2534  2017-07-01 00:00:15  2017-07-01 00:42:29              2002   \n",
       "\n",
       "               start station name  start station latitude  \\\n",
       "0  Metropolitan Ave & Bedford Ave               40.715348   \n",
       "1           Lafayette St & E 8 St               40.730207   \n",
       "2      Schermerhorn St & Court St               40.691029   \n",
       "3    Wythe Ave & Metropolitan Ave               40.716887   \n",
       "4    Wythe Ave & Metropolitan Ave               40.716887   \n",
       "\n",
       "   start station longitude  end station id          end station name  \\\n",
       "0               -73.960241            3107  Bedford Ave & Nassau Ave   \n",
       "1               -73.991026            3425         2 Ave  & E 104 St   \n",
       "2               -73.991834            3397      Court St & Nelson St   \n",
       "3               -73.963198             398  Atlantic Ave & Furman St   \n",
       "4               -73.963198             398  Atlantic Ave & Furman St   \n",
       "\n",
       "   end station latitude  end station longitude  bikeid    usertype  \\\n",
       "0             40.723117             -73.952123   14744  Subscriber   \n",
       "1             40.789210             -73.943708   19587  Subscriber   \n",
       "2             40.676395             -73.998699   27937  Subscriber   \n",
       "3             40.691652             -73.999979   26066  Subscriber   \n",
       "4             40.691652             -73.999979   29408  Subscriber   \n",
       "\n",
       "   birth year  gender  \n",
       "0      1986.0       1  \n",
       "1      1981.0       1  \n",
       "2      1984.0       2  \n",
       "3      1985.0       1  \n",
       "4      1982.0       2  "
      ]
     },
     "execution_count": 5,
     "metadata": {},
     "output_type": "execute_result"
    }
   ],
   "source": [
    "# Read in the .csv file\n",
    "\n",
    "df = pd.read_csv(os.getenv(\"PUIDATA\") + '/201707-citibike-tripdata.csv')\n",
    "df.head()"
   ]
  },
  {
   "cell_type": "code",
   "execution_count": 6,
   "metadata": {},
   "outputs": [
    {
     "data": {
      "text/html": [
       "<div>\n",
       "<table border=\"1\" class=\"dataframe\">\n",
       "  <thead>\n",
       "    <tr style=\"text-align: right;\">\n",
       "      <th></th>\n",
       "      <th>tripduration</th>\n",
       "      <th>starttime</th>\n",
       "      <th>stoptime</th>\n",
       "      <th>start station id</th>\n",
       "      <th>start station name</th>\n",
       "      <th>start station latitude</th>\n",
       "      <th>start station longitude</th>\n",
       "      <th>end station id</th>\n",
       "      <th>end station name</th>\n",
       "      <th>end station latitude</th>\n",
       "      <th>end station longitude</th>\n",
       "      <th>bikeid</th>\n",
       "      <th>usertype</th>\n",
       "      <th>birth year</th>\n",
       "      <th>gender</th>\n",
       "      <th>date</th>\n",
       "    </tr>\n",
       "  </thead>\n",
       "  <tbody>\n",
       "    <tr>\n",
       "      <th>0</th>\n",
       "      <td>364</td>\n",
       "      <td>2017-07-01 00:00:00</td>\n",
       "      <td>2017-07-01 00:06:05</td>\n",
       "      <td>539</td>\n",
       "      <td>Metropolitan Ave &amp; Bedford Ave</td>\n",
       "      <td>40.715348</td>\n",
       "      <td>-73.960241</td>\n",
       "      <td>3107</td>\n",
       "      <td>Bedford Ave &amp; Nassau Ave</td>\n",
       "      <td>40.723117</td>\n",
       "      <td>-73.952123</td>\n",
       "      <td>14744</td>\n",
       "      <td>Subscriber</td>\n",
       "      <td>1986.0</td>\n",
       "      <td>1</td>\n",
       "      <td>2017-07-01 00:00:00</td>\n",
       "    </tr>\n",
       "    <tr>\n",
       "      <th>1</th>\n",
       "      <td>2142</td>\n",
       "      <td>2017-07-01 00:00:03</td>\n",
       "      <td>2017-07-01 00:35:46</td>\n",
       "      <td>293</td>\n",
       "      <td>Lafayette St &amp; E 8 St</td>\n",
       "      <td>40.730207</td>\n",
       "      <td>-73.991026</td>\n",
       "      <td>3425</td>\n",
       "      <td>2 Ave  &amp; E 104 St</td>\n",
       "      <td>40.789210</td>\n",
       "      <td>-73.943708</td>\n",
       "      <td>19587</td>\n",
       "      <td>Subscriber</td>\n",
       "      <td>1981.0</td>\n",
       "      <td>1</td>\n",
       "      <td>2017-07-01 00:00:03</td>\n",
       "    </tr>\n",
       "    <tr>\n",
       "      <th>2</th>\n",
       "      <td>328</td>\n",
       "      <td>2017-07-01 00:00:08</td>\n",
       "      <td>2017-07-01 00:05:37</td>\n",
       "      <td>3242</td>\n",
       "      <td>Schermerhorn St &amp; Court St</td>\n",
       "      <td>40.691029</td>\n",
       "      <td>-73.991834</td>\n",
       "      <td>3397</td>\n",
       "      <td>Court St &amp; Nelson St</td>\n",
       "      <td>40.676395</td>\n",
       "      <td>-73.998699</td>\n",
       "      <td>27937</td>\n",
       "      <td>Subscriber</td>\n",
       "      <td>1984.0</td>\n",
       "      <td>2</td>\n",
       "      <td>2017-07-01 00:00:08</td>\n",
       "    </tr>\n",
       "    <tr>\n",
       "      <th>3</th>\n",
       "      <td>2530</td>\n",
       "      <td>2017-07-01 00:00:11</td>\n",
       "      <td>2017-07-01 00:42:22</td>\n",
       "      <td>2002</td>\n",
       "      <td>Wythe Ave &amp; Metropolitan Ave</td>\n",
       "      <td>40.716887</td>\n",
       "      <td>-73.963198</td>\n",
       "      <td>398</td>\n",
       "      <td>Atlantic Ave &amp; Furman St</td>\n",
       "      <td>40.691652</td>\n",
       "      <td>-73.999979</td>\n",
       "      <td>26066</td>\n",
       "      <td>Subscriber</td>\n",
       "      <td>1985.0</td>\n",
       "      <td>1</td>\n",
       "      <td>2017-07-01 00:00:11</td>\n",
       "    </tr>\n",
       "    <tr>\n",
       "      <th>4</th>\n",
       "      <td>2534</td>\n",
       "      <td>2017-07-01 00:00:15</td>\n",
       "      <td>2017-07-01 00:42:29</td>\n",
       "      <td>2002</td>\n",
       "      <td>Wythe Ave &amp; Metropolitan Ave</td>\n",
       "      <td>40.716887</td>\n",
       "      <td>-73.963198</td>\n",
       "      <td>398</td>\n",
       "      <td>Atlantic Ave &amp; Furman St</td>\n",
       "      <td>40.691652</td>\n",
       "      <td>-73.999979</td>\n",
       "      <td>29408</td>\n",
       "      <td>Subscriber</td>\n",
       "      <td>1982.0</td>\n",
       "      <td>2</td>\n",
       "      <td>2017-07-01 00:00:15</td>\n",
       "    </tr>\n",
       "  </tbody>\n",
       "</table>\n",
       "</div>"
      ],
      "text/plain": [
       "   tripduration            starttime             stoptime  start station id  \\\n",
       "0           364  2017-07-01 00:00:00  2017-07-01 00:06:05               539   \n",
       "1          2142  2017-07-01 00:00:03  2017-07-01 00:35:46               293   \n",
       "2           328  2017-07-01 00:00:08  2017-07-01 00:05:37              3242   \n",
       "3          2530  2017-07-01 00:00:11  2017-07-01 00:42:22              2002   \n",
       "4          2534  2017-07-01 00:00:15  2017-07-01 00:42:29              2002   \n",
       "\n",
       "               start station name  start station latitude  \\\n",
       "0  Metropolitan Ave & Bedford Ave               40.715348   \n",
       "1           Lafayette St & E 8 St               40.730207   \n",
       "2      Schermerhorn St & Court St               40.691029   \n",
       "3    Wythe Ave & Metropolitan Ave               40.716887   \n",
       "4    Wythe Ave & Metropolitan Ave               40.716887   \n",
       "\n",
       "   start station longitude  end station id          end station name  \\\n",
       "0               -73.960241            3107  Bedford Ave & Nassau Ave   \n",
       "1               -73.991026            3425         2 Ave  & E 104 St   \n",
       "2               -73.991834            3397      Court St & Nelson St   \n",
       "3               -73.963198             398  Atlantic Ave & Furman St   \n",
       "4               -73.963198             398  Atlantic Ave & Furman St   \n",
       "\n",
       "   end station latitude  end station longitude  bikeid    usertype  \\\n",
       "0             40.723117             -73.952123   14744  Subscriber   \n",
       "1             40.789210             -73.943708   19587  Subscriber   \n",
       "2             40.676395             -73.998699   27937  Subscriber   \n",
       "3             40.691652             -73.999979   26066  Subscriber   \n",
       "4             40.691652             -73.999979   29408  Subscriber   \n",
       "\n",
       "   birth year  gender                date  \n",
       "0      1986.0       1 2017-07-01 00:00:00  \n",
       "1      1981.0       1 2017-07-01 00:00:03  \n",
       "2      1984.0       2 2017-07-01 00:00:08  \n",
       "3      1985.0       1 2017-07-01 00:00:11  \n",
       "4      1982.0       2 2017-07-01 00:00:15  "
      ]
     },
     "execution_count": 6,
     "metadata": {},
     "output_type": "execute_result"
    }
   ],
   "source": [
    "# Convert starttime column to date-time variable\n",
    "df['date'] = pd.to_datetime(df['starttime'])\n",
    "\n",
    "df.head()"
   ]
  },
  {
   "cell_type": "code",
   "execution_count": 7,
   "metadata": {},
   "outputs": [
    {
     "data": {
      "text/plain": [
       "Index(['tripduration', 'starttime', 'stoptime', 'start station id',\n",
       "       'start station name', 'start station latitude',\n",
       "       'start station longitude', 'end station id', 'end station name',\n",
       "       'end station latitude', 'end station longitude', 'bikeid', 'usertype',\n",
       "       'birth year', 'gender', 'date'],\n",
       "      dtype='object')"
      ]
     },
     "execution_count": 7,
     "metadata": {},
     "output_type": "execute_result"
    }
   ],
   "source": [
    "df.columns"
   ]
  },
  {
   "cell_type": "code",
   "execution_count": 8,
   "metadata": {},
   "outputs": [],
   "source": [
    "# Calculating the ages for each rider\n",
    "\n",
    "df['ageM'] = 2017 - df['birth year'][(df['usertype'] == 'Subscriber') & (df['gender'] == 1)]\n",
    "df['ageF'] = 2017 - df['birth year'][(df['usertype'] == 'Subscriber') & (df['gender'] == 2)]"
   ]
  },
  {
   "cell_type": "code",
   "execution_count": 9,
   "metadata": {},
   "outputs": [
    {
     "data": {
      "text/plain": [
       "Index(['tripduration', 'starttime', 'stoptime', 'start station id',\n",
       "       'start station name', 'start station latitude',\n",
       "       'start station longitude', 'end station id', 'end station name',\n",
       "       'end station latitude', 'end station longitude', 'bikeid', 'usertype',\n",
       "       'birth year', 'gender', 'date', 'ageM', 'ageF'],\n",
       "      dtype='object')"
      ]
     },
     "execution_count": 9,
     "metadata": {},
     "output_type": "execute_result"
    }
   ],
   "source": [
    "df.columns"
   ]
  },
  {
   "cell_type": "code",
   "execution_count": 10,
   "metadata": {},
   "outputs": [],
   "source": [
    "# Dropping all irrelevant columns\n",
    "\n",
    "df.drop(df.columns.difference(['ageM', 'ageF']), axis = 1, inplace = True)"
   ]
  },
  {
   "cell_type": "code",
   "execution_count": 11,
   "metadata": {},
   "outputs": [
    {
     "name": "stderr",
     "output_type": "stream",
     "text": [
      "/usr/local/Anaconda3-5.0.0-Linux-x86_64/envs/PUI2016_Python3/lib/python3.5/site-packages/numpy/lib/function_base.py:3403: RuntimeWarning: Invalid value encountered in median\n",
      "  RuntimeWarning)\n"
     ]
    },
    {
     "data": {
      "text/html": [
       "<div>\n",
       "<table border=\"1\" class=\"dataframe\">\n",
       "  <thead>\n",
       "    <tr style=\"text-align: right;\">\n",
       "      <th></th>\n",
       "      <th>ageM</th>\n",
       "      <th>ageF</th>\n",
       "    </tr>\n",
       "  </thead>\n",
       "  <tbody>\n",
       "    <tr>\n",
       "      <th>count</th>\n",
       "      <td>1.069292e+06</td>\n",
       "      <td>383523.000000</td>\n",
       "    </tr>\n",
       "    <tr>\n",
       "      <th>mean</th>\n",
       "      <td>3.792710e+01</td>\n",
       "      <td>36.477223</td>\n",
       "    </tr>\n",
       "    <tr>\n",
       "      <th>std</th>\n",
       "      <td>1.160460e+01</td>\n",
       "      <td>11.288850</td>\n",
       "    </tr>\n",
       "    <tr>\n",
       "      <th>min</th>\n",
       "      <td>1.600000e+01</td>\n",
       "      <td>16.000000</td>\n",
       "    </tr>\n",
       "    <tr>\n",
       "      <th>25%</th>\n",
       "      <td>NaN</td>\n",
       "      <td>NaN</td>\n",
       "    </tr>\n",
       "    <tr>\n",
       "      <th>50%</th>\n",
       "      <td>NaN</td>\n",
       "      <td>NaN</td>\n",
       "    </tr>\n",
       "    <tr>\n",
       "      <th>75%</th>\n",
       "      <td>NaN</td>\n",
       "      <td>NaN</td>\n",
       "    </tr>\n",
       "    <tr>\n",
       "      <th>max</th>\n",
       "      <td>1.310000e+02</td>\n",
       "      <td>131.000000</td>\n",
       "    </tr>\n",
       "  </tbody>\n",
       "</table>\n",
       "</div>"
      ],
      "text/plain": [
       "               ageM           ageF\n",
       "count  1.069292e+06  383523.000000\n",
       "mean   3.792710e+01      36.477223\n",
       "std    1.160460e+01      11.288850\n",
       "min    1.600000e+01      16.000000\n",
       "25%             NaN            NaN\n",
       "50%             NaN            NaN\n",
       "75%             NaN            NaN\n",
       "max    1.310000e+02     131.000000"
      ]
     },
     "execution_count": 11,
     "metadata": {},
     "output_type": "execute_result"
    }
   ],
   "source": [
    "df.describe()"
   ]
  },
  {
   "cell_type": "code",
   "execution_count": 12,
   "metadata": {},
   "outputs": [],
   "source": [
    "# Dropping the NaN values\n",
    "\n",
    "df['ageM'].dropna(inplace= True)\n",
    "df['ageF'].dropna(inplace= True)"
   ]
  },
  {
   "cell_type": "markdown",
   "metadata": {},
   "source": [
    "# K-S Test for Correlation"
   ]
  },
  {
   "cell_type": "code",
   "execution_count": 13,
   "metadata": {},
   "outputs": [
    {
     "name": "stdout",
     "output_type": "stream",
     "text": [
      "Ks_2sampResult(statistic=0.079041094892743857, pvalue=0.0)\n"
     ]
    }
   ],
   "source": [
    "ks = scipy.stats.ks_2samp(df.ageM, df.ageF)\n",
    "print (ks)"
   ]
  },
  {
   "cell_type": "code",
   "execution_count": 15,
   "metadata": {},
   "outputs": [],
   "source": []
  },
  {
   "cell_type": "code",
   "execution_count": null,
   "metadata": {},
   "outputs": [],
   "source": []
  }
 ],
 "metadata": {
  "kernelspec": {
   "display_name": "PUI2016_Python3",
   "language": "python",
   "name": "pui2016_python3"
  },
  "language_info": {
   "codemirror_mode": {
    "name": "ipython",
    "version": 3
   },
   "file_extension": ".py",
   "mimetype": "text/x-python",
   "name": "python",
   "nbconvert_exporter": "python",
   "pygments_lexer": "ipython3",
   "version": "3.5.4"
  }
 },
 "nbformat": 4,
 "nbformat_minor": 2
}
