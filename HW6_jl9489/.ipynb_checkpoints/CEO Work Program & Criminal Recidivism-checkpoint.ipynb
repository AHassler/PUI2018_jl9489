{
 "cells": [
  {
   "cell_type": "code",
   "execution_count": 1,
   "metadata": {},
   "outputs": [
    {
     "name": "stdout",
     "output_type": "stream",
     "text": [
      "Populating the interactive namespace from numpy and matplotlib\n"
     ]
    }
   ],
   "source": [
    "import os\n",
    "import sys\n",
    "import numpy as np\n",
    "import pylab as pl\n",
    "import json\n",
    "\n",
    "\n",
    "%pylab inline\n",
    "\n",
    "from IPython.display import Image"
   ]
  },
  {
   "cell_type": "code",
   "execution_count": 2,
   "metadata": {},
   "outputs": [],
   "source": [
    "# Add Table 2.1 here"
   ]
  },
  {
   "cell_type": "markdown",
   "metadata": {},
   "source": [
    "## NULL HYPOTHESIS: the % of former prisoners employed after release is the same or lower for candidates who participated in the program as for the control group, significance level p=0.05\n",
    "\n",
    " H_0: P_0 - P_1 >= 0\n",
    "\n",
    " H_a: P_0 - P_1 < 0\n",
    "\n",
    " $\\alpha$ = 0.05\n",
    "\n",
    "this is a TEST OF PROPORTIONS. we use the Binomial distribution since it is a yes/no (bernulli) test for each subject: the former inmate was or was not ever employed in a CEO transitional job (second row in the table above):\n",
    "\n",
    " $P_0=0.035, P_1=0.701$"
   ]
  },
  {
   "cell_type": "code",
   "execution_count": 3,
   "metadata": {},
   "outputs": [
    {
     "name": "stdout",
     "output_type": "stream",
     "text": [
      "we must assess the statistical significance\n"
     ]
    }
   ],
   "source": [
    "# This is the significance threshold, or p-value\n",
    "alpha=0.05\n",
    "\n",
    "\n",
    "\n",
    "# Converting the test and control group values to percentages\n",
    "\n",
    "P_0 = 3.5 * 0.01   # Control Group\n",
    "P_1 = 70.1 * 0.01  # Test Group\n",
    "\n",
    "if P_0 - P_1 >= 0:\n",
    "    # we are done\n",
    "    print (\"the Null holds\")\n",
    "else:\n",
    "    print (\"we must assess the statistical significance\")\n",
    "\n",
    "#sample sizes \n",
    "\n",
    "n_0 = 409   # Control Group\n",
    "n_1 = 564   # Test Group\n",
    "    \n",
    "# Calculate the actual integers values that correspond to each percentage\n",
    "\n",
    "Nt_0 = P_0 * n_0\n",
    "Nt_1 = P_1 * n_1"
   ]
  },
  {
   "cell_type": "markdown",
   "metadata": {},
   "source": [
    "## The first test will be the Z-test"
   ]
  },
  {
   "cell_type": "code",
   "execution_count": 4,
   "metadata": {},
   "outputs": [
    {
     "name": "stdout",
     "output_type": "stream",
     "text": [
      "0.4210472764645426\n"
     ]
    }
   ],
   "source": [
    "# First, calculate the rate of \"successes\"\n",
    "\n",
    "sp = (P_0 * n_0 + P_1 * n_1) / (n_1 + n_0)\n",
    "print (sp)"
   ]
  },
  {
   "cell_type": "code",
   "execution_count": 5,
   "metadata": {},
   "outputs": [],
   "source": [
    "p = lambda p0, p1, n0, n1: (p0 * n0 + p1 * n1) / (n0 + n1)\n",
    "#standard error\n",
    "se = lambda p, n0, n1: np.sqrt(p * (1 - p) * (1.0 / n0 + 1.0 / n1))"
   ]
  },
  {
   "cell_type": "code",
   "execution_count": 6,
   "metadata": {},
   "outputs": [
    {
     "name": "stdout",
     "output_type": "stream",
     "text": [
      "20.7697865408\n"
     ]
    }
   ],
   "source": [
    "zscore = lambda p0, p1, s : (p0 - p1) / s\n",
    "z_2y = zscore(P_1, P_0, se(p(P_0, P_1, n_0, n_1), n_0, n_1))\n",
    "print (z_2y)"
   ]
  },
  {
   "cell_type": "code",
   "execution_count": 7,
   "metadata": {},
   "outputs": [],
   "source": [
    "# Add Z-table here"
   ]
  },
  {
   "cell_type": "code",
   "execution_count": 8,
   "metadata": {},
   "outputs": [
    {
     "name": "stdout",
     "output_type": "stream",
     "text": [
      "is the p value 0.00 smaller than the critical value 0.05?\n",
      "YES!\n",
      "the Null hypothesis is rejected\n"
     ]
    }
   ],
   "source": [
    "# p-value for employment after 2 years: \n",
    "# since the largest number we read off the table for is (way) smaller\n",
    "# than the value for our statistic \n",
    "# our p-value will be smaller than it would be if calculated using\n",
    "# (e.g.) .9998 (and in fact using 1.0000 which is the largest number\n",
    "# in the table). Using 0.9998 is a **conservative** approach. \n",
    "\n",
    "p_2y = 1 - 0.9984\n",
    "\n",
    "\n",
    "def report_result(p,a):\n",
    "    print ('is the p value ' + \n",
    "           '{0:.2f} smaller than the critical value {1:.2f}?'.format(p,a))\n",
    "    if p < a:\n",
    "        print (\"YES!\")\n",
    "    else: \n",
    "        print (\"NO!\")\n",
    "    \n",
    "    print ('the Null hypothesis is {}'.format(\\\n",
    "                            'rejected' if p < a  else 'not rejected') )\n",
    "\n",
    "    \n",
    "report_result(p_2y, alpha)"
   ]
  },
  {
   "cell_type": "markdown",
   "metadata": {},
   "source": [
    "## Next Test\n",
    "\n",
    "## Null Hypothesis: the felony recidivism rate (% of felony convictions after release from prison) is greater or equal among those who participated in the program versus those who did not, significance level = 0.05\n",
    "\n",
    "H_0: P_1_rc >= P_0_rc\n",
    "\n",
    "H_a: P_1_rc < P_0_rc"
   ]
  },
  {
   "cell_type": "code",
   "execution_count": 17,
   "metadata": {},
   "outputs": [
    {
     "name": "stdout",
     "output_type": "stream",
     "text": [
      "p-value        : 0.110\n",
      "standard error : 0.020\n",
      "z score        : 0.838\n"
     ]
    }
   ],
   "source": [
    "P_0_rc = 10.0 * 0.01\n",
    "P_1_rc = 11.7 * 0.01\n",
    "n_0_rc = 409\n",
    "n_1_rc = 568\n",
    "\n",
    "\n",
    "Nt_0_rc = P_0_rc * n_0_rc \n",
    "Nt_1_rc = P_1_rc * n_1_rc \n",
    "\n",
    "p_rc = p(P_0_rc, P_1_rc, n_0_rc, n_1_rc)\n",
    "se_rc = se(p_rc, n_0_rc, n_1_rc)\n",
    "z_3y = zscore(P_1_rc, P_0_rc, se(p(P_0_rc, P_1_rc, n_0_rc, n_1_rc), n_0_rc, n_1_rc))\n",
    "\n",
    "print(\"p-value        : %.3f\"%p_rc)\n",
    "print(\"standard error : %.3f\"%se_rc)\n",
    "print(\"z score        : %.3f\"%z_3y)"
   ]
  },
  {
   "cell_type": "code",
   "execution_count": 20,
   "metadata": {},
   "outputs": [
    {
     "name": "stdout",
     "output_type": "stream",
     "text": [
      "Using the Z table we calculate a p-value of 0.2005, which is larger than 0.05. \n",
      "So we cannot reject the null hypothesis.\n"
     ]
    }
   ],
   "source": [
    "# Using the z-score we use the following equation to determine the p-value\n",
    "\n",
    "p_rc_pop = 1 - 0.7995\n",
    "\n",
    "print(\"Using the Z table we calculate a p-value of %.4f, which is larger than 0.05. \\nSo we cannot reject the null hypothesis.\"%p_rc_pop)"
   ]
  },
  {
   "cell_type": "markdown",
   "metadata": {},
   "source": [
    "# Chi-Square Test for Employment Rate"
   ]
  },
  {
   "cell_type": "code",
   "execution_count": 21,
   "metadata": {},
   "outputs": [],
   "source": [
    "# First, copy the following function, which defined the Chi-Square test\n",
    "\n",
    "def evalChisq(values):\n",
    "    values = np.array(values)\n",
    "    E = np.empty_like(values)\n",
    "    for j in range(len(values[0])):\n",
    "        for i in range(2):\n",
    "            \n",
    "            E[i][j] = ((values[i,:].sum() * values[:,j].sum()) / \n",
    "                        (values).sum())\n",
    "    return ((values - E)**2 / E).sum()\n"
   ]
  },
  {
   "cell_type": "code",
   "execution_count": 22,
   "metadata": {},
   "outputs": [
    {
     "name": "stdout",
     "output_type": "stream",
     "text": [
      "436.223462575\n"
     ]
    }
   ],
   "source": [
    "Ntot = 973\n",
    "\n",
    "sample_values = np.array([[0.701 * 564, 0.299 * 564], [0.0305 * 409, 0.965 * 409]])\n",
    "\n",
    "print (evalChisq(sample_values))"
   ]
  },
  {
   "cell_type": "markdown",
   "metadata": {},
   "source": [
    "With an alpha of 0.05, the chi-square value is 3.84, which is significantly smaller than the calculated statistic.  Thus the null hypothesis can be rejected.  There is a statistically significant result related to higher employment rates among those who participated in the program."
   ]
  },
  {
   "cell_type": "markdown",
   "metadata": {},
   "source": [
    "# Chi-Square Test for Recidivism"
   ]
  },
  {
   "cell_type": "markdown",
   "metadata": {},
   "source": [
    "\n",
    "|convicted of a fellony     |     yes   | no        |                   \n",
    "|---------------------------|-----------|-----------|----------------|\n",
    "| test sample               | 0.1 * 568 | 0.9 * 568 |     568        |\n",
    "| control sample            |0.117 * 409|0.883 * 409|     409        |\n",
    "|                           |           |           |                |\n",
    "| total                     |  104.653  |  872.347  |     977        |"
   ]
  },
  {
   "cell_type": "code",
   "execution_count": 23,
   "metadata": {},
   "outputs": [
    {
     "name": "stdout",
     "output_type": "stream",
     "text": [
      "[[56.800000000000004, 511.2], [47.853, 361.147]]\n"
     ]
    }
   ],
   "source": [
    "sample_values_recid = [[0.100 * 568, 0.90 * 568],[0.117 * 409, 0.883 * 409]]\n",
    "\n",
    "print(sample_values_recid)"
   ]
  },
  {
   "cell_type": "code",
   "execution_count": 27,
   "metadata": {},
   "outputs": [
    {
     "name": "stdout",
     "output_type": "stream",
     "text": [
      "0.718493917505\n"
     ]
    }
   ],
   "source": [
    "chisq_recid = evalChisq(sample_values_recid)\n",
    "\n",
    "print(chisq_recid)"
   ]
  },
  {
   "cell_type": "code",
   "execution_count": 25,
   "metadata": {},
   "outputs": [
    {
     "name": "stdout",
     "output_type": "stream",
     "text": [
      "chi sq statistics for \"recidivism 1-3 years\": chisq = 0.718, DOF = 1\n"
     ]
    }
   ],
   "source": [
    "DOF = len(sample_values_recid) - 1\n",
    "print ('chi sq statistics for \"recidivism 1-3 years\": '+\n",
    "       'chisq = {:.3f}, DOF = {:d}'.format(chisq_recid, DOF))"
   ]
  },
  {
   "cell_type": "code",
   "execution_count": 28,
   "metadata": {},
   "outputs": [
    {
     "name": "stdout",
     "output_type": "stream",
     "text": [
      "The Null hypothesis that the program is ineffective at controlling recidivism\n",
      "cannot be rejected (p<0.05)\n",
      "with a chi square statistics of 0.72\n"
     ]
    }
   ],
   "source": [
    "# We check the Chi-Square table for a value to compare\n",
    "\n",
    "chimin_alpha5pc = 3.84  # For DOF = 1, alpha = 0.05\n",
    "\n",
    "\n",
    "print (\"The Null hypothesis that the program is ineffective at controlling recidivism\")\n",
    "if chisq_recid > chimin_alpha5pc :\n",
    "    print (\"can be rejected at alpha = 0.05\")\n",
    "else: \n",
    "    print (\"cannot be rejected (p<0.05)\")\n",
    "print (\"with a chi square statistics of %.2f\"%chisq_recid)"
   ]
  },
  {
   "cell_type": "code",
   "execution_count": null,
   "metadata": {},
   "outputs": [],
   "source": []
  }
 ],
 "metadata": {
  "kernelspec": {
   "display_name": "PUI2016_Python3",
   "language": "python",
   "name": "pui2016_python3"
  },
  "language_info": {
   "codemirror_mode": {
    "name": "ipython",
    "version": 3
   },
   "file_extension": ".py",
   "mimetype": "text/x-python",
   "name": "python",
   "nbconvert_exporter": "python",
   "pygments_lexer": "ipython3",
   "version": "3.5.4"
  }
 },
 "nbformat": 4,
 "nbformat_minor": 2
}
