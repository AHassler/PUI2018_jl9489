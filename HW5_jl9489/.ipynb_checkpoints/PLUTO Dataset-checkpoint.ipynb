{
 "cells": [
  {
   "cell_type": "code",
   "execution_count": null,
   "metadata": {},
   "outputs": [],
   "source": [
    "import numpy as np\n",
    "import pandas as pd\n",
    "import os\n",
    "import seaborn\n",
    "import pylab as pl\n",
    "import zipfile\n",
    "\n",
    "%pylab inline"
   ]
  },
  {
   "cell_type": "code",
   "execution_count": null,
   "metadata": {},
   "outputs": [],
   "source": [
    "# Creating the environmental variable PUIDATA in order to file data in a new directory\n",
    "\n",
    "os.environ[\"PUIDATA\"] = \"%s/PUIdata\"%os.getenv(\"HOME\")\n",
    "PUIdata = os.getenv('PUIDATA')\n",
    "\n",
    "print (PUIdata)"
   ]
  },
  {
   "cell_type": "code",
   "execution_count": null,
   "metadata": {},
   "outputs": [],
   "source": [
    "# Using command prompts, call PLUTO data from internet and store in .zip file\n",
    "\n",
    "!curl https://www1.nyc.gov/assets/planning/download/zip/data-maps/open-data/nyc_pluto_18v1.zip > pluto.zip"
   ]
  },
  {
   "cell_type": "code",
   "execution_count": null,
   "metadata": {},
   "outputs": [],
   "source": [
    "# Use zipfile package to unzip file and pull .csv files as needed\n",
    "\n",
    "with zipfile.ZipFile(\"pluto.zip\",'r') as zip_ref:\n",
    "    zip_ref.extractall(PUIdata)"
   ]
  },
  {
   "cell_type": "code",
   "execution_count": null,
   "metadata": {},
   "outputs": [],
   "source": [
    "# List of what is in the environmental variable.  This is the .zip file\n",
    "\n",
    "!ls $PUIdata"
   ]
  },
  {
   "cell_type": "code",
   "execution_count": null,
   "metadata": {},
   "outputs": [],
   "source": [
    "# Extract the .csv file for Manhattan data and use pandas function to assign variable to .csv\n",
    "\n",
    "with open(PUIdata + '/PLUTO_for_WEB' + '/MN_18v1.csv', 'r') as csv:\n",
    "    mn_csv = pd.read_csv(csv)\n",
    "    \n",
    "with open(PUIdata + '/PLUTO_for_WEB' + '/BK_18v1.csv', 'r') as csv_2:\n",
    "    bk_csv = pd.read_csv(csv_2)\n",
    "    "
   ]
  },
  {
   "cell_type": "code",
   "execution_count": null,
   "metadata": {},
   "outputs": [],
   "source": [
    "# First 10 rows of the Manhattan data\n",
    "\n",
    "mn_csv.head(10)"
   ]
  },
  {
   "cell_type": "code",
   "execution_count": null,
   "metadata": {},
   "outputs": [],
   "source": [
    "# First 10 rows of the Brooklyn data\n",
    "\n",
    "bk_csv.head(10)"
   ]
  },
  {
   "cell_type": "code",
   "execution_count": null,
   "metadata": {},
   "outputs": [],
   "source": [
    "# Show column names for Manhattan data\n",
    "\n",
    "mn_csv.columns"
   ]
  },
  {
   "cell_type": "code",
   "execution_count": null,
   "metadata": {},
   "outputs": [],
   "source": [
    "# Show column names for Brooklyn data\n",
    "\n",
    "bk_csv.columns"
   ]
  },
  {
   "cell_type": "code",
   "execution_count": null,
   "metadata": {},
   "outputs": [],
   "source": [
    "# Drop columns except for 'ZipCode' and 'LandUse'\n",
    "\n",
    "mn_csv = mn_csv.drop(columns = ['Borough','Block','Lot','CD','CT2010','CB2010','SchoolDist','Council',\n",
    "           'FireComp','PolicePrct', 'HealthCenterDistrict', 'HealthArea','SanitBoro','SanitDistrict',\n",
    "           'SanitSub','Address','ZoneDist1','ZoneDist2','ZoneDist3','ZoneDist4','Overlay1','Overlay2',\n",
    "           'SPDist1','SPDist2','SPDist3','LtdHeight','SplitZone','BldgClass','Easements','OwnerType',\n",
    "           'OwnerName','LotArea','BldgArea','ComArea','ResArea','OfficeArea','RetailArea','GarageArea',\n",
    "           'StrgeArea','FactryArea','OtherArea','AreaSource','NumBldgs','NumFloors','UnitsRes','UnitsTotal',\n",
    "           'LotFront','LotDepth','BldgFront','BldgDepth','Ext','ProxCode','IrrLotCode','LotType',\n",
    "           'BsmtCode', 'AssessLand', 'AssessTot', 'ExemptLand','ExemptTot', 'YearBuilt', 'YearAlter1',\n",
    "            'YearAlter2', 'HistDist','Landmark', 'BuiltFAR', 'ResidFAR', 'CommFAR', 'FacilFAR', 'BoroCode',\n",
    "           'BBL', 'CondoNo', 'Tract2010', 'XCoord', 'YCoord', 'ZoneMap', 'ZMCode','Sanborn', 'TaxMap', 'EDesigNum', \n",
    "           'APPBBL', 'APPDate', 'PLUTOMapID','FIRM07_Flag','PFIRM15_Flag','Version'], axis = 1)\n",
    "\n",
    "mn_csv"
   ]
  },
  {
   "cell_type": "code",
   "execution_count": null,
   "metadata": {},
   "outputs": [],
   "source": [
    "# Drop columns except for 'ZipCode' and 'LandUse'.  This is for the Brooklyn dataset\n",
    "\n",
    "bk_csv = bk_csv.drop(columns = ['Borough','Block','Lot','CD','CT2010','CB2010','SchoolDist','Council',\n",
    "           'FireComp','PolicePrct', 'HealthCenterDistrict', 'HealthArea','SanitBoro','SanitDistrict',\n",
    "           'SanitSub','Address','ZoneDist1','ZoneDist2','ZoneDist3','ZoneDist4','Overlay1','Overlay2',\n",
    "           'SPDist1','SPDist2','SPDist3','LtdHeight','SplitZone','BldgClass','Easements','OwnerType',\n",
    "           'OwnerName','LotArea','BldgArea','ComArea','ResArea','OfficeArea','RetailArea','GarageArea',\n",
    "           'StrgeArea','FactryArea','OtherArea','AreaSource','NumBldgs','NumFloors','UnitsRes','UnitsTotal',\n",
    "           'LotFront','LotDepth','BldgFront','BldgDepth','Ext','ProxCode','IrrLotCode','LotType',\n",
    "           'BsmtCode', 'AssessLand', 'AssessTot', 'ExemptLand','ExemptTot', 'YearBuilt', 'YearAlter1',\n",
    "            'YearAlter2', 'HistDist','Landmark', 'BuiltFAR', 'ResidFAR', 'CommFAR', 'FacilFAR', 'BoroCode',\n",
    "           'BBL', 'CondoNo', 'Tract2010', 'XCoord', 'YCoord', 'ZoneMap', 'ZMCode','Sanborn', 'TaxMap', 'EDesigNum', \n",
    "           'APPBBL', 'APPDate', 'PLUTOMapID','FIRM07_FLAG','PFIRM15_FLAG','Version'], axis = 1)\n",
    "\n",
    "bk_csv"
   ]
  },
  {
   "cell_type": "code",
   "execution_count": null,
   "metadata": {},
   "outputs": [],
   "source": [
    "# Convert ZipCode to string data type\n",
    "\n",
    "mn_csv['ZipCode'] = mn_csv.astype('str')\n",
    "bk_csv['ZipCode'] = bk_csv.astype('str')"
   ]
  },
  {
   "cell_type": "code",
   "execution_count": null,
   "metadata": {},
   "outputs": [],
   "source": [
    "# Manhattan Data\n",
    "#\n",
    "# Use .groupby() function to count number of records for each LandUse ID number\n",
    "\n",
    "mn_csv_grouped = mn_csv.groupby(['LandUse']).count()\n",
    "\n",
    "mn_csv_grouped = mn_csv_grouped.reset_index()\n",
    "\n",
    "mn_csv_grouped"
   ]
  },
  {
   "cell_type": "code",
   "execution_count": null,
   "metadata": {},
   "outputs": [],
   "source": [
    "# Brooklyn Data\n",
    "#\n",
    "# Use .groupby() function to count number of records for each LandUse ID number\n",
    "\n",
    "\n",
    "bk_csv_grouped = bk_csv.groupby(['LandUse']).count()\n",
    "\n",
    "bk_csv_grouped = bk_csv_grouped.reset_index()\n",
    "\n",
    "bk_csv_grouped"
   ]
  },
  {
   "cell_type": "code",
   "execution_count": null,
   "metadata": {},
   "outputs": [],
   "source": [
    "# Convert LandUse data point form floating point to integers\n",
    "\n",
    "mn_csv_grouped['LandUse'] = mn_csv_grouped.astype('int')\n",
    "bk_csv_grouped['LandUse'] = bk_csv_grouped.astype('int')"
   ]
  },
  {
   "cell_type": "code",
   "execution_count": null,
   "metadata": {},
   "outputs": [],
   "source": [
    "mn_csv_grouped.head()"
   ]
  },
  {
   "cell_type": "code",
   "execution_count": null,
   "metadata": {},
   "outputs": [],
   "source": [
    "# Merged Brooklyn and Manhattan data frames\n",
    "\n",
    "both_csv = pd.DataFrame(mn_csv_grouped.merge(bk_csv_grouped, on = 'LandUse'))\n",
    "\n",
    "both_csv"
   ]
  },
  {
   "cell_type": "code",
   "execution_count": null,
   "metadata": {},
   "outputs": [],
   "source": [
    "# Renamed indexes to identify which is Brooklyn & which is Manhattan\n",
    "\n",
    "both_csv = both_csv.rename(index=str, columns = {'ZipCode_x' : 'MN', 'ZipCode_y' : 'BK'})\n",
    "\n",
    "both_csv"
   ]
  },
  {
   "cell_type": "code",
   "execution_count": null,
   "metadata": {},
   "outputs": [],
   "source": [
    "# Trying to convert data in LandUse column to the descriptions.  \n",
    "# Credit to GitHub user AHassler for this piece of code\n",
    "\n",
    "both_csv['LandUse'] = both_csv['LandUse'].astype('str')\n",
    "\n",
    "both_csv['LandUse'] = both_csv['LandUse'].replace({\n",
    "    '1' : 'One &Two Family Buildings',\n",
    "    '2' : 'Multi-Family Walk-Up Buildings',\n",
    "    '3' : 'Multi-Family Elevator Buildings',\n",
    "    '4' : 'Mixed Residential & Commercial Buildings',\n",
    "    '5' : 'Commercial & Office Buildings',\n",
    "    '6' : 'Industrial & Manufacturing',\n",
    "    '7' : 'Transportation & Utility',\n",
    "    '8' : 'Public Facilities & Institutions',\n",
    "    '9' : 'Open Space & Outdoor Recreation',\n",
    "    '10' : 'Parking Facilities',\n",
    "    '11' : 'Vacant Land'})\n",
    "\n",
    "both_csv"
   ]
  },
  {
   "cell_type": "code",
   "execution_count": null,
   "metadata": {},
   "outputs": [],
   "source": [
    "# Find the ratio of buildings in Manhattan to those in Brooklyn\n",
    "\n",
    "both_csv['luratio'] = both_csv['MN'].divide(both_csv['BK'])\n",
    "\n",
    "both_csv"
   ]
  },
  {
   "cell_type": "code",
   "execution_count": null,
   "metadata": {},
   "outputs": [],
   "source": [
    "# User defined function, man_wins. Used, along with luratio, \n",
    "# to compare the ratio of buildings in Manhattan to Brooklyn.\n",
    "\n",
    "def man_wins(x):\n",
    "        if x > 1:\n",
    "            return True   # This is if the luratio > 1\n",
    "        else:\n",
    "            return False\n",
    "        \n",
    "both_csv['Manhattan Wins'] = both_csv['luratio'].apply(man_wins)\n",
    "\n",
    "both_csv"
   ]
  },
  {
   "cell_type": "markdown",
   "metadata": {},
   "source": [
    "The only category that Manhattan exceeds Brooklyn is the Multi-Family Elevator Building.  This makes sense intuitively, as Manhattan has more skyscrapers.  The biggest disparity is the One & Two Family Building, showing just how much of Brooklyn is residential compared to Manhattan.  However, even the Commercial & Office Buildings count is led by Brooklyn.  This all seems to imply that Manhattan developers (either by design or necessity) use their available space more efficiently."
   ]
  },
  {
   "cell_type": "code",
   "execution_count": null,
   "metadata": {},
   "outputs": [],
   "source": []
  }
 ],
 "metadata": {
  "kernelspec": {
   "display_name": "PUI2016_Python3",
   "language": "python",
   "name": "pui2016_python3"
  },
  "language_info": {
   "codemirror_mode": {
    "name": "ipython",
    "version": 3
   },
   "file_extension": ".py",
   "mimetype": "text/x-python",
   "name": "python",
   "nbconvert_exporter": "python",
   "pygments_lexer": "ipython3",
   "version": "3.5.4"
  }
 },
 "nbformat": 4,
 "nbformat_minor": 2
}
